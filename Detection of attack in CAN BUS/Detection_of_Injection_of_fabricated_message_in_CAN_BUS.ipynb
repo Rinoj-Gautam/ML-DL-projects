{
  "nbformat": 4,
  "nbformat_minor": 0,
  "metadata": {
    "colab": {
      "provenance": [],
      "toc_visible": true
    },
    "kernelspec": {
      "name": "python3",
      "display_name": "Python 3"
    },
    "language_info": {
      "name": "python"
    }
  },
  "cells": [
    {
      "cell_type": "code",
      "execution_count": null,
      "metadata": {
        "id": "spvjd5GpOuRP"
      },
      "outputs": [],
      "source": [
        "#Rinoj Gautam (11599360)"
      ]
    },
    {
      "cell_type": "markdown",
      "source": [
        "Task 1 :Data Preparation"
      ],
      "metadata": {
        "id": "mNEULSIqOu-j"
      }
    },
    {
      "cell_type": "code",
      "source": [],
      "metadata": {
        "id": "nGJEJcj3VgZp"
      },
      "execution_count": null,
      "outputs": []
    },
    {
      "cell_type": "code",
      "source": [
        "import pandas as pd\n",
        "\n",
        "import numpy as np\n",
        "import csv\n",
        "import matplotlib.pyplot as plt\n",
        "\n",
        "def getData(filename):\n",
        "  canData=[] #List to store the can data\n",
        "  canData2 = [] #list to store only required data\n",
        "  f = open(filename)\n",
        "  #read_file = reader(f)\n",
        "  read_file =f.readlines()\n",
        "\n",
        "  #file = list(read_file)\n",
        "  speed = []\n",
        "  rpm = []\n",
        "  i = 0\n",
        "  count = 0\n",
        "  sc = 0\n",
        "  rc = 0\n",
        "  newspeed = 0\n",
        "  newrpm = 0\n",
        "  speedContinues = False\n",
        "  rpmContinues = False\n",
        "\n",
        "  for row in read_file:\n",
        "    #Change the positions of the values if needed\n",
        "    record = {'count': 0, 'stamp':row[1:18], 'PID':row[25:28], 'const1':row[29:33], 'change':row[33:41],'speed': 0,'rpm': 0,'attack':0}\n",
        "    value = int(row[41:45],16)\n",
        "    if record[\"PID\"] == '254':#Processing of speed\n",
        "      if value >= 4095:\n",
        "        record[\"attack\"] = 1\n",
        "      record['speed'] =  (value * 0.62137119) /100\n",
        "      speed.append(record['speed'])\n",
        "\n",
        "      #print(\"i == \",i, \"speed= \", record['value'])\n",
        "      if speedContinues == False:\n",
        "        newspeed = 0\n",
        "        sc = 0\n",
        "\n",
        "\n",
        "    if record[\"PID\"] == '115': #Processing of RPM\n",
        "      if value >= 65535:\n",
        "        record[\"attack\"] = 1\n",
        "      record['rpm'] =  value * 2\n",
        "      rpm.append(record['rpm'])\n",
        "\n",
        "      if rpmContinues == False:\n",
        "        newrpm = 0\n",
        "        rc = 0\n",
        "    #logic for keeping equal number of speed and rpm and fill the in-between speed and rpm values with previous speed and rpm\n",
        "    if record['speed'] == 0 and sc > 0:\n",
        "      record['speed'] = newspeed\n",
        "      speedContinues = False\n",
        "    else:\n",
        "      newspeed = record['speed']\n",
        "      sc = sc + 1\n",
        "      speedContinues = True\n",
        "\n",
        "\n",
        "    if record['rpm'] == 0 and rc > 0:\n",
        "      record['rpm'] = newrpm\n",
        "      rpmContinues = False\n",
        "    else:\n",
        "      newrpm = newrpm + record['rpm']\n",
        "      rc = rc + 1\n",
        "      rpmContinues = True\n",
        "\n",
        "      #print(\"i == \",i, \"RPM= \", record['value'])\n",
        "    i = i+1\n",
        "    record['count'] = i\n",
        "    canData.append(record)\n",
        "    if record[\"PID\"] == '254' or record[\"PID\"] == '115':\n",
        "      canData2.append(record)\n",
        "    record={}\n",
        "\n",
        "  f.close()\n",
        "\n",
        "  #Change the return value to speed or RPM if you want to return the other lists\n",
        "  return canData,canData2\n"
      ],
      "metadata": {
        "id": "EJc2DtwLOyT7"
      },
      "execution_count": null,
      "outputs": []
    },
    {
      "cell_type": "code",
      "source": [
        "# Getting the data and converting to dataframe and dropping the attack values\n",
        "no_injection1,no_injection2= getData(\"CAN bus log - no injection of messages.log\")\n",
        "rpm_injection1,rpm_injection2 = getData(\"CAN Bus log - injection of RPM readings.log\")\n",
        "speed_injection1,speed_injection2 = getData(\"CAN Bus log - injection of FFF as the speed reading.log\")\n",
        "\n",
        "no_injection = pd.DataFrame(no_injection2).drop(['attack'],axis = 1)\n",
        "rpm_injection = pd.DataFrame(rpm_injection2).drop(['attack'],axis = 1)\n",
        "speed_injection = pd.DataFrame(speed_injection2).drop(['attack'],axis = 1)\n",
        "no_injection.head()"
      ],
      "metadata": {
        "colab": {
          "base_uri": "https://localhost:8080/",
          "height": 206
        },
        "id": "50bmh3K6UiiX",
        "outputId": "3c8f9bd5-3428-4c68-d8a1-7b8e8b9503bb"
      },
      "execution_count": null,
      "outputs": [
        {
          "output_type": "execute_result",
          "data": {
            "text/plain": [
              "   count              stamp  PID const1    change  speed  rpm\n",
              "0      7  1522004165.993044  115   4E00  02010000    0.0  636\n",
              "1     21  1522004165.996440  254   918F  D364239E    0.0  636\n",
              "2     34  1522004166.008046  115   4E00  02010000    0.0  640\n",
              "3     56  1522004166.016375  254   918F  C364339E    0.0  640\n",
              "4     66  1522004166.023050  115   4E00  02010000    0.0  640"
            ],
            "text/html": [
              "\n",
              "  <div id=\"df-6e225be6-a712-4505-8d72-e174ce466d52\">\n",
              "    <div class=\"colab-df-container\">\n",
              "      <div>\n",
              "<style scoped>\n",
              "    .dataframe tbody tr th:only-of-type {\n",
              "        vertical-align: middle;\n",
              "    }\n",
              "\n",
              "    .dataframe tbody tr th {\n",
              "        vertical-align: top;\n",
              "    }\n",
              "\n",
              "    .dataframe thead th {\n",
              "        text-align: right;\n",
              "    }\n",
              "</style>\n",
              "<table border=\"1\" class=\"dataframe\">\n",
              "  <thead>\n",
              "    <tr style=\"text-align: right;\">\n",
              "      <th></th>\n",
              "      <th>count</th>\n",
              "      <th>stamp</th>\n",
              "      <th>PID</th>\n",
              "      <th>const1</th>\n",
              "      <th>change</th>\n",
              "      <th>speed</th>\n",
              "      <th>rpm</th>\n",
              "    </tr>\n",
              "  </thead>\n",
              "  <tbody>\n",
              "    <tr>\n",
              "      <th>0</th>\n",
              "      <td>7</td>\n",
              "      <td>1522004165.993044</td>\n",
              "      <td>115</td>\n",
              "      <td>4E00</td>\n",
              "      <td>02010000</td>\n",
              "      <td>0.0</td>\n",
              "      <td>636</td>\n",
              "    </tr>\n",
              "    <tr>\n",
              "      <th>1</th>\n",
              "      <td>21</td>\n",
              "      <td>1522004165.996440</td>\n",
              "      <td>254</td>\n",
              "      <td>918F</td>\n",
              "      <td>D364239E</td>\n",
              "      <td>0.0</td>\n",
              "      <td>636</td>\n",
              "    </tr>\n",
              "    <tr>\n",
              "      <th>2</th>\n",
              "      <td>34</td>\n",
              "      <td>1522004166.008046</td>\n",
              "      <td>115</td>\n",
              "      <td>4E00</td>\n",
              "      <td>02010000</td>\n",
              "      <td>0.0</td>\n",
              "      <td>640</td>\n",
              "    </tr>\n",
              "    <tr>\n",
              "      <th>3</th>\n",
              "      <td>56</td>\n",
              "      <td>1522004166.016375</td>\n",
              "      <td>254</td>\n",
              "      <td>918F</td>\n",
              "      <td>C364339E</td>\n",
              "      <td>0.0</td>\n",
              "      <td>640</td>\n",
              "    </tr>\n",
              "    <tr>\n",
              "      <th>4</th>\n",
              "      <td>66</td>\n",
              "      <td>1522004166.023050</td>\n",
              "      <td>115</td>\n",
              "      <td>4E00</td>\n",
              "      <td>02010000</td>\n",
              "      <td>0.0</td>\n",
              "      <td>640</td>\n",
              "    </tr>\n",
              "  </tbody>\n",
              "</table>\n",
              "</div>\n",
              "      <button class=\"colab-df-convert\" onclick=\"convertToInteractive('df-6e225be6-a712-4505-8d72-e174ce466d52')\"\n",
              "              title=\"Convert this dataframe to an interactive table.\"\n",
              "              style=\"display:none;\">\n",
              "        \n",
              "  <svg xmlns=\"http://www.w3.org/2000/svg\" height=\"24px\"viewBox=\"0 0 24 24\"\n",
              "       width=\"24px\">\n",
              "    <path d=\"M0 0h24v24H0V0z\" fill=\"none\"/>\n",
              "    <path d=\"M18.56 5.44l.94 2.06.94-2.06 2.06-.94-2.06-.94-.94-2.06-.94 2.06-2.06.94zm-11 1L8.5 8.5l.94-2.06 2.06-.94-2.06-.94L8.5 2.5l-.94 2.06-2.06.94zm10 10l.94 2.06.94-2.06 2.06-.94-2.06-.94-.94-2.06-.94 2.06-2.06.94z\"/><path d=\"M17.41 7.96l-1.37-1.37c-.4-.4-.92-.59-1.43-.59-.52 0-1.04.2-1.43.59L10.3 9.45l-7.72 7.72c-.78.78-.78 2.05 0 2.83L4 21.41c.39.39.9.59 1.41.59.51 0 1.02-.2 1.41-.59l7.78-7.78 2.81-2.81c.8-.78.8-2.07 0-2.86zM5.41 20L4 18.59l7.72-7.72 1.47 1.35L5.41 20z\"/>\n",
              "  </svg>\n",
              "      </button>\n",
              "      \n",
              "  <style>\n",
              "    .colab-df-container {\n",
              "      display:flex;\n",
              "      flex-wrap:wrap;\n",
              "      gap: 12px;\n",
              "    }\n",
              "\n",
              "    .colab-df-convert {\n",
              "      background-color: #E8F0FE;\n",
              "      border: none;\n",
              "      border-radius: 50%;\n",
              "      cursor: pointer;\n",
              "      display: none;\n",
              "      fill: #1967D2;\n",
              "      height: 32px;\n",
              "      padding: 0 0 0 0;\n",
              "      width: 32px;\n",
              "    }\n",
              "\n",
              "    .colab-df-convert:hover {\n",
              "      background-color: #E2EBFA;\n",
              "      box-shadow: 0px 1px 2px rgba(60, 64, 67, 0.3), 0px 1px 3px 1px rgba(60, 64, 67, 0.15);\n",
              "      fill: #174EA6;\n",
              "    }\n",
              "\n",
              "    [theme=dark] .colab-df-convert {\n",
              "      background-color: #3B4455;\n",
              "      fill: #D2E3FC;\n",
              "    }\n",
              "\n",
              "    [theme=dark] .colab-df-convert:hover {\n",
              "      background-color: #434B5C;\n",
              "      box-shadow: 0px 1px 3px 1px rgba(0, 0, 0, 0.15);\n",
              "      filter: drop-shadow(0px 1px 2px rgba(0, 0, 0, 0.3));\n",
              "      fill: #FFFFFF;\n",
              "    }\n",
              "  </style>\n",
              "\n",
              "      <script>\n",
              "        const buttonEl =\n",
              "          document.querySelector('#df-6e225be6-a712-4505-8d72-e174ce466d52 button.colab-df-convert');\n",
              "        buttonEl.style.display =\n",
              "          google.colab.kernel.accessAllowed ? 'block' : 'none';\n",
              "\n",
              "        async function convertToInteractive(key) {\n",
              "          const element = document.querySelector('#df-6e225be6-a712-4505-8d72-e174ce466d52');\n",
              "          const dataTable =\n",
              "            await google.colab.kernel.invokeFunction('convertToInteractive',\n",
              "                                                     [key], {});\n",
              "          if (!dataTable) return;\n",
              "\n",
              "          const docLinkHtml = 'Like what you see? Visit the ' +\n",
              "            '<a target=\"_blank\" href=https://colab.research.google.com/notebooks/data_table.ipynb>data table notebook</a>'\n",
              "            + ' to learn more about interactive tables.';\n",
              "          element.innerHTML = '';\n",
              "          dataTable['output_type'] = 'display_data';\n",
              "          await google.colab.output.renderOutput(dataTable, element);\n",
              "          const docLink = document.createElement('div');\n",
              "          docLink.innerHTML = docLinkHtml;\n",
              "          element.appendChild(docLink);\n",
              "        }\n",
              "      </script>\n",
              "    </div>\n",
              "  </div>\n",
              "  "
            ]
          },
          "metadata": {},
          "execution_count": 48
        }
      ]
    },
    {
      "cell_type": "markdown",
      "source": [],
      "metadata": {
        "id": "VL6h-doRBkZ6"
      }
    },
    {
      "cell_type": "markdown",
      "source": [
        "Task 2: K Means Clustering"
      ],
      "metadata": {
        "id": "cUK35n_SZlpv"
      }
    },
    {
      "cell_type": "code",
      "source": [
        "# no injection data\n",
        "# rpm\n",
        "X = no_injection.loc[:,['count','rpm']]\n",
        "#print(X)\n",
        "#first we do feature scaling\n",
        "from sklearn.preprocessing import StandardScaler\n",
        "sc = StandardScaler()\n",
        "X[['count_T','rpm_T']] = sc.fit_transform(X[['count','rpm']])\n",
        "#print(X)\n",
        "#using elbow method to find the optimal number of clusters\n",
        "from sklearn.cluster import KMeans\n",
        "wcss = []\n",
        "for i in range(1,11):\n",
        "  kmeans = KMeans(n_clusters=i, init ='k-means++', random_state=42)\n",
        "  kmeans.fit(X[['count_T','rpm_T']])\n",
        "  wcss.append(kmeans.inertia_)\n",
        "plt.plot(range(1,11),wcss)\n",
        "plt.title('The elbow method')\n",
        "plt.xlabel('Number of Clusters')\n",
        "plt.ylabel('WCSS')\n",
        "plt.show()\n"
      ],
      "metadata": {
        "id": "R4x3RHd9Igs_",
        "colab": {
          "base_uri": "https://localhost:8080/",
          "height": 295
        },
        "outputId": "4272c5b5-a6e1-42c3-8aef-bc022278bb18"
      },
      "execution_count": null,
      "outputs": [
        {
          "output_type": "display_data",
          "data": {
            "text/plain": [
              "<Figure size 432x288 with 1 Axes>"
            ],
            "image/png": "[encoded data removed]"
          },
          "metadata": {
            "needs_background": "light"
          }
        }
      ]
    },
    {
      "cell_type": "code",
      "source": [
        "\n",
        "kmeans = KMeans(n_clusters = 2,init = 'k-means++', random_state=42 )\n",
        "kmeans.fit(X[['count_T','rpm_T']])\n",
        "X['labels']= kmeans.labels_\n",
        "#print(X)\n",
        "plt.scatter(x = X['count_T'],y = X['rpm_T'],c = X['labels'])\n",
        "\n",
        "\n",
        "plt.scatter(kmeans.cluster_centers_[:, 0], kmeans.cluster_centers_[:, 1], s = 300, c = 'red', label = 'Centroids')\n",
        "plt.title('Rpm vs count')\n",
        "plt.xlabel('Count')\n",
        "plt.ylabel('Rpm')\n",
        "plt.legend()\n",
        "plt.show()\n",
        "print(kmeans.cluster_centers_)"
      ],
      "metadata": {
        "colab": {
          "base_uri": "https://localhost:8080/",
          "height": 330
        },
        "id": "cEpYECezS2SH",
        "outputId": "1af99100-25a5-4cec-b102-63b9e56fa176"
      },
      "execution_count": null,
      "outputs": [
        {
          "output_type": "display_data",
          "data": {
            "text/plain": [
              "<Figure size 432x288 with 1 Axes>"
            ],
            "image/png": "[encoded data removed]"
          },
          "metadata": {
            "needs_background": "light"
          }
        },
        {
          "output_type": "stream",
          "name": "stdout",
          "text": [
            "[[-0.62602099  0.53828565]\n",
            " [ 1.10604044 -0.95103153]]\n"
          ]
        }
      ]
    },
    {
      "cell_type": "code",
      "source": [
        "#no injection\n",
        "#speed\n",
        "X = no_injection.loc[:,['count','speed']]\n",
        "#print(X)\n",
        "#first we do feature scaling\n",
        "from sklearn.preprocessing import StandardScaler\n",
        "sc = StandardScaler()\n",
        "X[['count_T','speed_T']] = sc.fit_transform(X[['count','speed']])\n",
        "#print(X)\n",
        "#using elbow method to find the optimal number of clusters\n",
        "from sklearn.cluster import KMeans\n",
        "wcss = []\n",
        "for i in range(1,11):\n",
        "  kmeans = KMeans(n_clusters=i, init ='k-means++', random_state=42)\n",
        "  kmeans.fit(X[['count_T','speed_T']])\n",
        "  wcss.append(kmeans.inertia_)\n",
        "plt.plot(range(1,11),wcss)\n",
        "plt.title('The elbow method')\n",
        "plt.xlabel('Number of Clusters')\n",
        "plt.ylabel('WCSS')\n",
        "plt.show()"
      ],
      "metadata": {
        "colab": {
          "base_uri": "https://localhost:8080/",
          "height": 295
        },
        "id": "Axle-NzBfG8D",
        "outputId": "348f0abd-6b5d-4f91-fe42-bea04e5a863a"
      },
      "execution_count": null,
      "outputs": [
        {
          "output_type": "display_data",
          "data": {
            "text/plain": [
              "<Figure size 432x288 with 1 Axes>"
            ],
            "image/png": "[encoded data removed]"
          },
          "metadata": {
            "needs_background": "light"
          }
        }
      ]
    },
    {
      "cell_type": "code",
      "source": [
        "kmeans = KMeans(n_clusters = 2,init = 'k-means++', random_state=42 )\n",
        "kmeans.fit(X[['count_T','speed_T']])\n",
        "X['labels']= kmeans.labels_\n",
        "#print(X)\n",
        "plt.scatter(x = X['count_T'],y = X['speed_T'],c = X['labels'])\n",
        "\n",
        "\n",
        "plt.scatter(kmeans.cluster_centers_[:, 0], kmeans.cluster_centers_[:, 1], s = 300, c = 'red', label = 'Centroids')\n",
        "plt.title('Speed vs count')\n",
        "plt.xlabel('Count')\n",
        "plt.ylabel('Speed')\n",
        "plt.legend()\n",
        "plt.show()\n",
        "print(kmeans.cluster_centers_)"
      ],
      "metadata": {
        "colab": {
          "base_uri": "https://localhost:8080/",
          "height": 330
        },
        "id": "BjGZuFkuFEru",
        "outputId": "0d44668f-43ce-4193-f81c-75cb0d5c442a"
      },
      "execution_count": null,
      "outputs": [
        {
          "output_type": "display_data",
          "data": {
            "text/plain": [
              "<Figure size 432x288 with 1 Axes>"
            ],
            "image/png": "[encoded data removed]"
          },
          "metadata": {
            "needs_background": "light"
          }
        },
        {
          "output_type": "stream",
          "name": "stdout",
          "text": [
            "[[ 0.54513565  0.43179224]\n",
            " [-1.1869042  -0.94012568]]\n"
          ]
        }
      ]
    },
    {
      "cell_type": "code",
      "source": [],
      "metadata": {
        "id": "lHwzLn5FgvG6"
      },
      "execution_count": null,
      "outputs": []
    },
    {
      "cell_type": "code",
      "source": [
        "#rpm injection\n",
        "#rpm\n",
        "X = rpm_injection.loc[:,['count','rpm']]\n",
        "#first we do feature scaling\n",
        "from sklearn.preprocessing import StandardScaler\n",
        "sc = StandardScaler()\n",
        "X[['count_T','rpm_T']] = sc.fit_transform(X[['count','rpm']])\n",
        "#print(X)\n",
        "#using elbow method to find the optimal number of clusters\n",
        "from sklearn.cluster import KMeans\n",
        "wcss = []\n",
        "for i in range(1,11):\n",
        "  kmeans = KMeans(n_clusters=i, init ='k-means++', random_state=42)\n",
        "  kmeans.fit(X[['count_T','rpm_T']])\n",
        "  wcss.append(kmeans.inertia_)\n",
        "plt.plot(range(1,11),wcss)\n",
        "plt.title('The elbow method')\n",
        "plt.xlabel('Number of Clusters')\n",
        "plt.ylabel('WCSS')\n",
        "plt.show()"
      ],
      "metadata": {
        "colab": {
          "base_uri": "https://localhost:8080/",
          "height": 295
        },
        "id": "uYwTtl4ufYjt",
        "outputId": "72597a8e-6012-4a89-d81c-9ab9fafdd8ed"
      },
      "execution_count": null,
      "outputs": [
        {
          "output_type": "display_data",
          "data": {
            "text/plain": [
              "<Figure size 432x288 with 1 Axes>"
            ],
            "image/png": "[encoded data removed]"
          },
          "metadata": {
            "needs_background": "light"
          }
        }
      ]
    },
    {
      "cell_type": "code",
      "source": [
        "kmeans = KMeans(n_clusters = 2,init = 'k-means++', random_state=42 )\n",
        "kmeans.fit(X[['count_T','rpm_T']])\n",
        "X['labels']= kmeans.labels_\n",
        "#print(X)\n",
        "plt.scatter(x = X['count_T'],y = X['rpm_T'],c = X['labels'])\n",
        "\n",
        "\n",
        "plt.scatter(kmeans.cluster_centers_[:, 0], kmeans.cluster_centers_[:, 1], s = 300, c = 'red', label = 'Centroids')\n",
        "plt.title('Rpm vs count')\n",
        "plt.xlabel('Count')\n",
        "plt.ylabel('Rpm')\n",
        "plt.legend()\n",
        "plt.show()\n",
        "print(kmeans.cluster_centers_)"
      ],
      "metadata": {
        "colab": {
          "base_uri": "https://localhost:8080/",
          "height": 330
        },
        "id": "OYWXz-sYfz1q",
        "outputId": "271a43b4-e976-4dc7-836a-a9c19430a091"
      },
      "execution_count": null,
      "outputs": [
        {
          "output_type": "display_data",
          "data": {
            "text/plain": [
              "<Figure size 432x288 with 1 Axes>"
            ],
            "image/png": "[encoded data removed]"
          },
          "metadata": {
            "needs_background": "light"
          }
        },
        {
          "output_type": "stream",
          "name": "stdout",
          "text": [
            "[[ 0.15100212  0.60489717]\n",
            " [-0.40000401 -1.60237017]]\n"
          ]
        }
      ]
    },
    {
      "cell_type": "code",
      "source": [
        "#rpm injection\n",
        "#speed\n",
        "X = rpm_injection.loc[:,['count','speed']]\n",
        "#first we do feature scaling\n",
        "from sklearn.preprocessing import StandardScaler\n",
        "sc = StandardScaler()\n",
        "X[['count_T','speed_T']] = sc.fit_transform(X[['count','speed']])\n",
        "#print(X)\n",
        "#using elbow method to find the optimal number of clusters\n",
        "from sklearn.cluster import KMeans\n",
        "wcss = []\n",
        "for i in range(1,11):\n",
        "  kmeans = KMeans(n_clusters=i, init ='k-means++', random_state=42)\n",
        "  kmeans.fit(X[['count_T','speed_T']])\n",
        "  wcss.append(kmeans.inertia_)\n",
        "plt.plot(range(1,11),wcss)\n",
        "plt.title('The elbow method')\n",
        "plt.xlabel('Number of Clusters')\n",
        "plt.ylabel('WCSS')\n",
        "plt.show()"
      ],
      "metadata": {
        "colab": {
          "base_uri": "https://localhost:8080/",
          "height": 295
        },
        "id": "WOJ45b8LgDIJ",
        "outputId": "b1d9167d-b351-484b-e293-d4d69deddd7f"
      },
      "execution_count": null,
      "outputs": [
        {
          "output_type": "display_data",
          "data": {
            "text/plain": [
              "<Figure size 432x288 with 1 Axes>"
            ],
            "image/png": "[encoded data removed]"
          },
          "metadata": {
            "needs_background": "light"
          }
        }
      ]
    },
    {
      "cell_type": "code",
      "source": [
        "kmeans = KMeans(n_clusters = 2,init = 'k-means++', random_state=42 )\n",
        "kmeans.fit(X[['count_T','speed_T']])\n",
        "X['labels']= kmeans.labels_\n",
        "#print(X)\n",
        "plt.scatter(x = X['count_T'],y = X['speed_T'],c = X['labels'])\n",
        "\n",
        "\n",
        "plt.scatter(kmeans.cluster_centers_[:, 0], kmeans.cluster_centers_[:, 1], s = 300, c = 'red', label = 'Centroids')\n",
        "plt.title('Speed vs count')\n",
        "plt.xlabel('Count')\n",
        "plt.ylabel('Speed')\n",
        "plt.legend()\n",
        "plt.show()\n",
        "print(kmeans.cluster_centers_)"
      ],
      "metadata": {
        "colab": {
          "base_uri": "https://localhost:8080/",
          "height": 330
        },
        "id": "DvOf973lgXqV",
        "outputId": "cdd37af1-9ce8-4809-8ab3-d87ded7bc771"
      },
      "execution_count": null,
      "outputs": [
        {
          "output_type": "display_data",
          "data": {
            "text/plain": [
              "<Figure size 432x288 with 1 Axes>"
            ],
            "image/png": "[encoded data removed]"
          },
          "metadata": {
            "needs_background": "light"
          }
        },
        {
          "output_type": "stream",
          "name": "stdout",
          "text": [
            "[[-0.87031173 -0.95512353]\n",
            " [ 0.84650381  0.92899553]]\n"
          ]
        }
      ]
    },
    {
      "cell_type": "code",
      "source": [
        "#speed injection\n",
        "#rpm\n",
        "X = speed_injection.loc[:,['count','rpm']]\n",
        "#first we do feature scaling\n",
        "from sklearn.preprocessing import StandardScaler\n",
        "sc = StandardScaler()\n",
        "X[['count_T','rpm_T']] = sc.fit_transform(X[['count','rpm']])\n",
        "#print(X)\n",
        "#using elbow method to find the optimal number of clusters\n",
        "from sklearn.cluster import KMeans\n",
        "wcss = []\n",
        "for i in range(1,11):\n",
        "  kmeans = KMeans(n_clusters=i, init ='k-means++', random_state=42)\n",
        "  kmeans.fit(X[['count_T','rpm_T']])\n",
        "  wcss.append(kmeans.inertia_)\n",
        "plt.plot(range(1,11),wcss)\n",
        "plt.title('The elbow method')\n",
        "plt.xlabel('Number of Clusters')\n",
        "plt.ylabel('WCSS')\n",
        "plt.show()\n"
      ],
      "metadata": {
        "colab": {
          "base_uri": "https://localhost:8080/",
          "height": 295
        },
        "id": "9aqQS27agxBd",
        "outputId": "fb70ea9e-bf95-4d86-85c6-cf6ac335f936"
      },
      "execution_count": null,
      "outputs": [
        {
          "output_type": "display_data",
          "data": {
            "text/plain": [
              "<Figure size 432x288 with 1 Axes>"
            ],
            "image/png": "[encoded data removed]"
          },
          "metadata": {
            "needs_background": "light"
          }
        }
      ]
    },
    {
      "cell_type": "code",
      "source": [
        "kmeans = KMeans(n_clusters = 2,init = 'k-means++', random_state=42 )\n",
        "kmeans.fit(X[['count_T','rpm_T']])\n",
        "X['labels']= kmeans.labels_\n",
        "#print(X)\n",
        "plt.scatter(x = X['count_T'],y = X['rpm_T'],c = X['labels'])\n",
        "\n",
        "\n",
        "plt.scatter(kmeans.cluster_centers_[:, 0], kmeans.cluster_centers_[:, 1], s = 300, c = 'red', label = 'Centroids')\n",
        "plt.title('Rpm vs count')\n",
        "plt.xlabel('Count')\n",
        "plt.ylabel('Rpm')\n",
        "plt.legend()\n",
        "plt.show()\n",
        "print(kmeans.cluster_centers_)"
      ],
      "metadata": {
        "colab": {
          "base_uri": "https://localhost:8080/",
          "height": 330
        },
        "id": "ecnpFIkohIjX",
        "outputId": "aebf5341-2d4a-492b-cae1-8bdb37b746d4"
      },
      "execution_count": null,
      "outputs": [
        {
          "output_type": "display_data",
          "data": {
            "text/plain": [
              "<Figure size 432x288 with 1 Axes>"
            ],
            "image/png": "[encoded data removed]"
          },
          "metadata": {
            "needs_background": "light"
          }
        },
        {
          "output_type": "stream",
          "name": "stdout",
          "text": [
            "[[ 0.8259832  -0.61204131]\n",
            " [-0.88292715  0.65423593]]\n"
          ]
        }
      ]
    },
    {
      "cell_type": "code",
      "source": [
        "#speed injection\n",
        "#speed\n",
        "X = speed_injection.loc[:,['count','speed']]\n",
        "#first we do feature scaling\n",
        "from sklearn.preprocessing import StandardScaler\n",
        "sc = StandardScaler()\n",
        "X[['count_T','speed_T']] = sc.fit_transform(X[['count','speed']])\n",
        "#print(X)\n",
        "#using elbow method to find the optimal number of clusters\n",
        "from sklearn.cluster import KMeans\n",
        "wcss = []\n",
        "for i in range(1,11):\n",
        "  kmeans = KMeans(n_clusters=i, init ='k-means++', random_state=42)\n",
        "  kmeans.fit(X[['count_T','speed_T']])\n",
        "  wcss.append(kmeans.inertia_)\n",
        "plt.plot(range(1,11),wcss)\n",
        "plt.title('The elbow method')\n",
        "plt.xlabel('Number of Clusters')\n",
        "plt.ylabel('WCSS')\n",
        "plt.show()"
      ],
      "metadata": {
        "colab": {
          "base_uri": "https://localhost:8080/",
          "height": 295
        },
        "id": "LKoyhYKxhXmV",
        "outputId": "c20625be-f19e-4ec0-8006-d3e5a5e61d02"
      },
      "execution_count": null,
      "outputs": [
        {
          "output_type": "display_data",
          "data": {
            "text/plain": [
              "<Figure size 432x288 with 1 Axes>"
            ],
            "image/png": "[encoded data removed]"
          },
          "metadata": {
            "needs_background": "light"
          }
        }
      ]
    },
    {
      "cell_type": "code",
      "source": [
        "kmeans = KMeans(n_clusters = 2,init = 'k-means++', random_state=42 )\n",
        "kmeans.fit(X[['count_T','speed_T']])\n",
        "X['labels']= kmeans.labels_\n",
        "#print(X)\n",
        "plt.scatter(x = X['count_T'],y = X['speed_T'],c = X['labels'])\n",
        "\n",
        "\n",
        "plt.scatter(kmeans.cluster_centers_[:, 0], kmeans.cluster_centers_[:, 1], s = 300, c = 'red', label = 'Centroids')\n",
        "plt.title('Speed vs count')\n",
        "plt.xlabel('Count')\n",
        "plt.ylabel('Speed')\n",
        "plt.legend()\n",
        "plt.show()\n",
        "print(kmeans.cluster_centers_)"
      ],
      "metadata": {
        "colab": {
          "base_uri": "https://localhost:8080/",
          "height": 330
        },
        "id": "J10VZPdvhpPc",
        "outputId": "87f9952b-970f-4e28-cf49-2885af45cd4c"
      },
      "execution_count": null,
      "outputs": [
        {
          "output_type": "display_data",
          "data": {
            "text/plain": [
              "<Figure size 432x288 with 1 Axes>"
            ],
            "image/png": "[encoded data removed]"
          },
          "metadata": {
            "needs_background": "light"
          }
        },
        {
          "output_type": "stream",
          "name": "stdout",
          "text": [
            "[[ 0.00753582  0.46686768]\n",
            " [-0.03371545 -2.088777  ]]\n"
          ]
        }
      ]
    },
    {
      "cell_type": "markdown",
      "source": [
        "Task 3: Isolation Forest Algorithm"
      ],
      "metadata": {
        "id": "A9_1w-ImBmTp"
      }
    },
    {
      "cell_type": "code",
      "source": [
        "#no injection\n",
        "#rpm\n",
        "from sklearn.ensemble import IsolationForest\n",
        "features = ['count','rpm']\n",
        "X  = no_injection.loc[:,['count','rpm']]\n",
        "\n",
        "\n",
        "cluster1 = IsolationForest(n_estimators=100, contamination=float(0.01))\n",
        "cluster1.fit(X[['rpm']])\n",
        "\n",
        "X['scores']=cluster1.decision_function(X[['rpm']])\n",
        "X['anamoly']=cluster1.predict(X[['rpm']])\n",
        "X.head(20)"
      ],
      "metadata": {
        "colab": {
          "base_uri": "https://localhost:8080/",
          "height": 731
        },
        "id": "IQ64y67-BvxL",
        "outputId": "5dd9ffe4-b59b-4bc7-a4f1-809498a3d58a"
      },
      "execution_count": null,
      "outputs": [
        {
          "output_type": "stream",
          "name": "stderr",
          "text": [
            "/usr/local/lib/python3.7/dist-packages/sklearn/base.py:451: UserWarning: X does not have valid feature names, but IsolationForest was fitted with feature names\n",
            "  \"X does not have valid feature names, but\"\n"
          ]
        },
        {
          "output_type": "execute_result",
          "data": {
            "text/plain": [
              "    count  rpm    scores  anamoly\n",
              "0       7  636 -0.007893       -1\n",
              "1      21  636 -0.007893       -1\n",
              "2      34  640  0.008324        1\n",
              "3      56  640  0.008324        1\n",
              "4      66  640  0.008324        1\n",
              "5      85  640  0.008324        1\n",
              "6      92  638 -0.003134       -1\n",
              "7     111  638 -0.003134       -1\n",
              "8     125  638 -0.003134       -1\n",
              "9     139  640  0.008324        1\n",
              "10    158  640  0.008324        1\n",
              "11    165  640  0.008324        1\n",
              "12    186  640  0.008324        1\n",
              "13    193  644  0.018443        1\n",
              "14    211  644  0.018443        1\n",
              "15    225  644  0.018443        1\n",
              "16    239  644  0.018443        1\n",
              "17    261  644  0.018443        1\n",
              "18    267  644  0.018443        1\n",
              "19    288  644  0.018443        1"
            ],
            "text/html": [
              "\n",
              "  <div id=\"df-a7ce692c-894f-41b2-9430-69bf7b88e16a\">\n",
              "    <div class=\"colab-df-container\">\n",
              "      <div>\n",
              "<style scoped>\n",
              "    .dataframe tbody tr th:only-of-type {\n",
              "        vertical-align: middle;\n",
              "    }\n",
              "\n",
              "    .dataframe tbody tr th {\n",
              "        vertical-align: top;\n",
              "    }\n",
              "\n",
              "    .dataframe thead th {\n",
              "        text-align: right;\n",
              "    }\n",
              "</style>\n",
              "<table border=\"1\" class=\"dataframe\">\n",
              "  <thead>\n",
              "    <tr style=\"text-align: right;\">\n",
              "      <th></th>\n",
              "      <th>count</th>\n",
              "      <th>rpm</th>\n",
              "      <th>scores</th>\n",
              "      <th>anamoly</th>\n",
              "    </tr>\n",
              "  </thead>\n",
              "  <tbody>\n",
              "    <tr>\n",
              "      <th>0</th>\n",
              "      <td>7</td>\n",
              "      <td>636</td>\n",
              "      <td>-0.007893</td>\n",
              "      <td>-1</td>\n",
              "    </tr>\n",
              "    <tr>\n",
              "      <th>1</th>\n",
              "      <td>21</td>\n",
              "      <td>636</td>\n",
              "      <td>-0.007893</td>\n",
              "      <td>-1</td>\n",
              "    </tr>\n",
              "    <tr>\n",
              "      <th>2</th>\n",
              "      <td>34</td>\n",
              "      <td>640</td>\n",
              "      <td>0.008324</td>\n",
              "      <td>1</td>\n",
              "    </tr>\n",
              "    <tr>\n",
              "      <th>3</th>\n",
              "      <td>56</td>\n",
              "      <td>640</td>\n",
              "      <td>0.008324</td>\n",
              "      <td>1</td>\n",
              "    </tr>\n",
              "    <tr>\n",
              "      <th>4</th>\n",
              "      <td>66</td>\n",
              "      <td>640</td>\n",
              "      <td>0.008324</td>\n",
              "      <td>1</td>\n",
              "    </tr>\n",
              "    <tr>\n",
              "      <th>5</th>\n",
              "      <td>85</td>\n",
              "      <td>640</td>\n",
              "      <td>0.008324</td>\n",
              "      <td>1</td>\n",
              "    </tr>\n",
              "    <tr>\n",
              "      <th>6</th>\n",
              "      <td>92</td>\n",
              "      <td>638</td>\n",
              "      <td>-0.003134</td>\n",
              "      <td>-1</td>\n",
              "    </tr>\n",
              "    <tr>\n",
              "      <th>7</th>\n",
              "      <td>111</td>\n",
              "      <td>638</td>\n",
              "      <td>-0.003134</td>\n",
              "      <td>-1</td>\n",
              "    </tr>\n",
              "    <tr>\n",
              "      <th>8</th>\n",
              "      <td>125</td>\n",
              "      <td>638</td>\n",
              "      <td>-0.003134</td>\n",
              "      <td>-1</td>\n",
              "    </tr>\n",
              "    <tr>\n",
              "      <th>9</th>\n",
              "      <td>139</td>\n",
              "      <td>640</td>\n",
              "      <td>0.008324</td>\n",
              "      <td>1</td>\n",
              "    </tr>\n",
              "    <tr>\n",
              "      <th>10</th>\n",
              "      <td>158</td>\n",
              "      <td>640</td>\n",
              "      <td>0.008324</td>\n",
              "      <td>1</td>\n",
              "    </tr>\n",
              "    <tr>\n",
              "      <th>11</th>\n",
              "      <td>165</td>\n",
              "      <td>640</td>\n",
              "      <td>0.008324</td>\n",
              "      <td>1</td>\n",
              "    </tr>\n",
              "    <tr>\n",
              "      <th>12</th>\n",
              "      <td>186</td>\n",
              "      <td>640</td>\n",
              "      <td>0.008324</td>\n",
              "      <td>1</td>\n",
              "    </tr>\n",
              "    <tr>\n",
              "      <th>13</th>\n",
              "      <td>193</td>\n",
              "      <td>644</td>\n",
              "      <td>0.018443</td>\n",
              "      <td>1</td>\n",
              "    </tr>\n",
              "    <tr>\n",
              "      <th>14</th>\n",
              "      <td>211</td>\n",
              "      <td>644</td>\n",
              "      <td>0.018443</td>\n",
              "      <td>1</td>\n",
              "    </tr>\n",
              "    <tr>\n",
              "      <th>15</th>\n",
              "      <td>225</td>\n",
              "      <td>644</td>\n",
              "      <td>0.018443</td>\n",
              "      <td>1</td>\n",
              "    </tr>\n",
              "    <tr>\n",
              "      <th>16</th>\n",
              "      <td>239</td>\n",
              "      <td>644</td>\n",
              "      <td>0.018443</td>\n",
              "      <td>1</td>\n",
              "    </tr>\n",
              "    <tr>\n",
              "      <th>17</th>\n",
              "      <td>261</td>\n",
              "      <td>644</td>\n",
              "      <td>0.018443</td>\n",
              "      <td>1</td>\n",
              "    </tr>\n",
              "    <tr>\n",
              "      <th>18</th>\n",
              "      <td>267</td>\n",
              "      <td>644</td>\n",
              "      <td>0.018443</td>\n",
              "      <td>1</td>\n",
              "    </tr>\n",
              "    <tr>\n",
              "      <th>19</th>\n",
              "      <td>288</td>\n",
              "      <td>644</td>\n",
              "      <td>0.018443</td>\n",
              "      <td>1</td>\n",
              "    </tr>\n",
              "  </tbody>\n",
              "</table>\n",
              "</div>\n",
              "      <button class=\"colab-df-convert\" onclick=\"convertToInteractive('df-a7ce692c-894f-41b2-9430-69bf7b88e16a')\"\n",
              "              title=\"Convert this dataframe to an interactive table.\"\n",
              "              style=\"display:none;\">\n",
              "        \n",
              "  <svg xmlns=\"http://www.w3.org/2000/svg\" height=\"24px\"viewBox=\"0 0 24 24\"\n",
              "       width=\"24px\">\n",
              "    <path d=\"M0 0h24v24H0V0z\" fill=\"none\"/>\n",
              "    <path d=\"M18.56 5.44l.94 2.06.94-2.06 2.06-.94-2.06-.94-.94-2.06-.94 2.06-2.06.94zm-11 1L8.5 8.5l.94-2.06 2.06-.94-2.06-.94L8.5 2.5l-.94 2.06-2.06.94zm10 10l.94 2.06.94-2.06 2.06-.94-2.06-.94-.94-2.06-.94 2.06-2.06.94z\"/><path d=\"M17.41 7.96l-1.37-1.37c-.4-.4-.92-.59-1.43-.59-.52 0-1.04.2-1.43.59L10.3 9.45l-7.72 7.72c-.78.78-.78 2.05 0 2.83L4 21.41c.39.39.9.59 1.41.59.51 0 1.02-.2 1.41-.59l7.78-7.78 2.81-2.81c.8-.78.8-2.07 0-2.86zM5.41 20L4 18.59l7.72-7.72 1.47 1.35L5.41 20z\"/>\n",
              "  </svg>\n",
              "      </button>\n",
              "      \n",
              "  <style>\n",
              "    .colab-df-container {\n",
              "      display:flex;\n",
              "      flex-wrap:wrap;\n",
              "      gap: 12px;\n",
              "    }\n",
              "\n",
              "    .colab-df-convert {\n",
              "      background-color: #E8F0FE;\n",
              "      border: none;\n",
              "      border-radius: 50%;\n",
              "      cursor: pointer;\n",
              "      display: none;\n",
              "      fill: #1967D2;\n",
              "      height: 32px;\n",
              "      padding: 0 0 0 0;\n",
              "      width: 32px;\n",
              "    }\n",
              "\n",
              "    .colab-df-convert:hover {\n",
              "      background-color: #E2EBFA;\n",
              "      box-shadow: 0px 1px 2px rgba(60, 64, 67, 0.3), 0px 1px 3px 1px rgba(60, 64, 67, 0.15);\n",
              "      fill: #174EA6;\n",
              "    }\n",
              "\n",
              "    [theme=dark] .colab-df-convert {\n",
              "      background-color: #3B4455;\n",
              "      fill: #D2E3FC;\n",
              "    }\n",
              "\n",
              "    [theme=dark] .colab-df-convert:hover {\n",
              "      background-color: #434B5C;\n",
              "      box-shadow: 0px 1px 3px 1px rgba(0, 0, 0, 0.15);\n",
              "      filter: drop-shadow(0px 1px 2px rgba(0, 0, 0, 0.3));\n",
              "      fill: #FFFFFF;\n",
              "    }\n",
              "  </style>\n",
              "\n",
              "      <script>\n",
              "        const buttonEl =\n",
              "          document.querySelector('#df-a7ce692c-894f-41b2-9430-69bf7b88e16a button.colab-df-convert');\n",
              "        buttonEl.style.display =\n",
              "          google.colab.kernel.accessAllowed ? 'block' : 'none';\n",
              "\n",
              "        async function convertToInteractive(key) {\n",
              "          const element = document.querySelector('#df-a7ce692c-894f-41b2-9430-69bf7b88e16a');\n",
              "          const dataTable =\n",
              "            await google.colab.kernel.invokeFunction('convertToInteractive',\n",
              "                                                     [key], {});\n",
              "          if (!dataTable) return;\n",
              "\n",
              "          const docLinkHtml = 'Like what you see? Visit the ' +\n",
              "            '<a target=\"_blank\" href=https://colab.research.google.com/notebooks/data_table.ipynb>data table notebook</a>'\n",
              "            + ' to learn more about interactive tables.';\n",
              "          element.innerHTML = '';\n",
              "          dataTable['output_type'] = 'display_data';\n",
              "          await google.colab.output.renderOutput(dataTable, element);\n",
              "          const docLink = document.createElement('div');\n",
              "          docLink.innerHTML = docLinkHtml;\n",
              "          element.appendChild(docLink);\n",
              "        }\n",
              "      </script>\n",
              "    </div>\n",
              "  </div>\n",
              "  "
            ]
          },
          "metadata": {},
          "execution_count": 49
        }
      ]
    },
    {
      "cell_type": "code",
      "source": [
        "anamoly = X.loc[X['anamoly']==-1]\n",
        "anamoly_index = list(anamoly.index)\n",
        "print(anamoly)\n"
      ],
      "metadata": {
        "colab": {
          "base_uri": "https://localhost:8080/"
        },
        "id": "8fBo4s0FRms9",
        "outputId": "07861bcd-4306-4282-e0f6-6dd03a396e85"
      },
      "execution_count": null,
      "outputs": [
        {
          "output_type": "stream",
          "name": "stdout",
          "text": [
            "     count   rpm    scores  anamoly\n",
            "0        7   636 -0.007893       -1\n",
            "1       21   636 -0.007893       -1\n",
            "6       92   638 -0.003134       -1\n",
            "7      111   638 -0.003134       -1\n",
            "8      125   638 -0.003134       -1\n",
            "657   9551  2546 -0.001433       -1\n",
            "662   9626  2562 -0.006687       -1\n",
            "663   9644  2562 -0.006687       -1\n",
            "667   9698  2562 -0.006687       -1\n",
            "668   9718  2562 -0.006687       -1\n",
            "672   9770  2564 -0.016714       -1\n",
            "673   9784  2564 -0.016714       -1\n",
            "678   9857  2570 -0.024045       -1\n",
            "681   9903  2562 -0.006687       -1\n",
            "682   9923  2562 -0.006687       -1\n"
          ]
        }
      ]
    },
    {
      "cell_type": "code",
      "source": [
        "#scatter plot\n",
        "plt.scatter(X[X['anamoly']==1]['count'],X[X['anamoly']==1]['rpm'],c = 'red',label ='Cluster1' )\n",
        "plt.scatter(X[X['anamoly']==-1]['count'],X[X['anamoly']==-1]['rpm'],c = 'blue',label ='Cluster2' )\n",
        "plt.legend()\n",
        "plt.title('Regular vs anamoly')\n",
        "plt.xlabel('count')\n",
        "plt.ylabel('Rpm')\n",
        "plt.show()"
      ],
      "metadata": {
        "colab": {
          "base_uri": "https://localhost:8080/",
          "height": 295
        },
        "id": "qL3VGHQGSUd6",
        "outputId": "51f8d63d-70c2-4f97-c588-915b40df50df"
      },
      "execution_count": null,
      "outputs": [
        {
          "output_type": "display_data",
          "data": {
            "text/plain": [
              "<Figure size 432x288 with 1 Axes>"
            ],
            "image/png": "[encoded data removed]"
          },
          "metadata": {
            "needs_background": "light"
          }
        }
      ]
    },
    {
      "cell_type": "code",
      "source": [
        "#no injection\n",
        "#speed\n",
        "\n",
        "features = ['count','speed']\n",
        "X  = no_injection.loc[:,features]\n",
        "\n",
        "\n",
        "cluster1 = IsolationForest(n_estimators=100, contamination=float(0.1))\n",
        "cluster1.fit(X[['speed']])\n",
        "\n",
        "X['scores']=cluster1.decision_function(X[['speed']])\n",
        "X['anamoly']=cluster1.predict(X[['speed']])\n",
        "anamoly = X.loc[X['anamoly']==-1]\n",
        "anamoly_index = list(anamoly.index)\n",
        "print(anamoly)\n",
        "#scatter plot\n",
        "plt.scatter(X[X['anamoly']==1]['count'],X[X['anamoly']==1]['speed'],c = 'red',label ='Cluster1' )\n",
        "plt.scatter(X[X['anamoly']==-1]['count'],X[X['anamoly']==-1]['speed'],c = 'blue',label ='Cluster2' )\n",
        "plt.legend()\n",
        "plt.title('Regular vs anamoly')\n",
        "plt.xlabel('count')\n",
        "plt.ylabel('Speed')\n",
        "plt.show()\n",
        "\n"
      ],
      "metadata": {
        "colab": {
          "base_uri": "https://localhost:8080/",
          "height": 593
        },
        "id": "xhvkaR70UnUH",
        "outputId": "5d194d5b-4e78-4c9b-8058-2b6bb09f9f3d"
      },
      "execution_count": null,
      "outputs": [
        {
          "output_type": "stream",
          "name": "stderr",
          "text": [
            "/usr/local/lib/python3.7/dist-packages/sklearn/base.py:451: UserWarning: X does not have valid feature names, but IsolationForest was fitted with feature names\n",
            "  \"X does not have valid feature names, but\"\n"
          ]
        },
        {
          "output_type": "stream",
          "name": "stdout",
          "text": [
            "      count     speed    scores  anamoly\n",
            "0         7  0.000000 -0.118735       -1\n",
            "1        21  0.000000 -0.118735       -1\n",
            "2        34  0.000000 -0.118735       -1\n",
            "3        56  0.000000 -0.118735       -1\n",
            "4        66  0.000000 -0.118735       -1\n",
            "...     ...       ...       ...      ...\n",
            "1644  23894  3.144138 -0.010382       -1\n",
            "1645  23912  3.144138 -0.010382       -1\n",
            "1646  23926  3.038505 -0.011779       -1\n",
            "1647  23939  3.038505 -0.011779       -1\n",
            "1648  23962  2.932872 -0.012230       -1\n",
            "\n",
            "[165 rows x 4 columns]\n"
          ]
        },
        {
          "output_type": "display_data",
          "data": {
            "text/plain": [
              "<Figure size 432x288 with 1 Axes>"
            ],
            "image/png": "[encoded data removed]"
          },
          "metadata": {
            "needs_background": "light"
          }
        }
      ]
    },
    {
      "cell_type": "code",
      "source": [
        "#rpm injection\n",
        "#rpm\n",
        "\n",
        "X  = rpm_injection.loc[:,['count','rpm']]\n",
        "\n",
        "\n",
        "cluster1 = IsolationForest(n_estimators=100, contamination=float(0.01))\n",
        "cluster1.fit(X[['rpm']])\n",
        "\n",
        "X['scores']=cluster1.decision_function(X[['rpm']])\n",
        "X['anamoly']=cluster1.predict(X[['rpm']])\n",
        "anamoly = X.loc[X['anamoly']==-1]\n",
        "anamoly_index = list(anamoly.index)\n",
        "print(anamoly)\n",
        "#scatter plot\n",
        "plt.scatter(X[X['anamoly']==1]['count'],X[X['anamoly']==1]['rpm'],c = 'red',label ='Cluster1' )\n",
        "plt.scatter(X[X['anamoly']==-1]['count'],X[X['anamoly']==-1]['rpm'],c = 'blue',label ='Cluster2' )\n",
        "plt.legend()\n",
        "plt.title('Regular vs anamoly')\n",
        "plt.xlabel('count')\n",
        "plt.ylabel('Rpm')\n",
        "plt.show()"
      ],
      "metadata": {
        "colab": {
          "base_uri": "https://localhost:8080/",
          "height": 1148
        },
        "id": "yfCdM_yoVTRf",
        "outputId": "585dc9f2-c6cd-4ba2-8316-a060aac4e1f4"
      },
      "execution_count": null,
      "outputs": [
        {
          "output_type": "stream",
          "name": "stderr",
          "text": [
            "/usr/local/lib/python3.7/dist-packages/sklearn/base.py:451: UserWarning: X does not have valid feature names, but IsolationForest was fitted with feature names\n",
            "  \"X does not have valid feature names, but\"\n"
          ]
        },
        {
          "output_type": "stream",
          "name": "stdout",
          "text": [
            "      count     rpm    scores  anamoly\n",
            "511    6174  262140 -0.146894       -1\n",
            "606    6744  262140 -0.146894       -1\n",
            "910    8566  262140 -0.146894       -1\n",
            "1309  10951  262140 -0.146894       -1\n",
            "1366  11293  262140 -0.146894       -1\n",
            "1499  12086  262140 -0.146894       -1\n",
            "1613  12770  262140 -0.146894       -1\n",
            "1784  13793  262140 -0.146894       -1\n",
            "1841  14136  262140 -0.146894       -1\n",
            "1879  14362  262140 -0.146894       -1\n",
            "1898  14476  262140 -0.146894       -1\n",
            "2061  15448    1466 -0.001396       -1\n",
            "2066  15475    1474 -0.002215       -1\n",
            "2071  15508    1484 -0.001301       -1\n",
            "2080  15563    1514 -0.001369       -1\n",
            "2085  15592    1524 -0.000456       -1\n",
            "2088  15613  262140 -0.146894       -1\n",
            "2090  15623    1530 -0.000456       -1\n",
            "2164  16070  262140 -0.146894       -1\n",
            "2354  17205  262140 -0.146894       -1\n",
            "2373  17317  262140 -0.146894       -1\n",
            "2430  17661  262140 -0.146894       -1\n",
            "2449  17771  262140 -0.146894       -1\n",
            "2531  18259    1520 -0.000912       -1\n",
            "2546  18353    1488 -0.001301       -1\n",
            "2550  18375    1490 -0.000388       -1\n",
            "2555  18407    1482 -0.001301       -1\n",
            "2560  18434    1474 -0.002215       -1\n",
            "2565  18466    1472 -0.001758       -1\n",
            "2569  18488    1460 -0.002310       -1\n",
            "2574  18520    1454 -0.001396       -1\n",
            "2579  18547    1452 -0.000483       -1\n",
            "2588  18600    1454 -0.001396       -1\n",
            "2620  18798  262140 -0.146894       -1\n",
            "2639  18911  262140 -0.146894       -1\n",
            "2753  19591  262140 -0.146894       -1\n",
            "2829  20048  262140 -0.146894       -1\n",
            "2848  20161  262140 -0.146894       -1\n",
            "2886  20390  262140 -0.146894       -1\n",
            "2905  20504  262140 -0.146894       -1\n",
            "2943  20730  262140 -0.146894       -1\n",
            "3076  21525  262140 -0.146894       -1\n",
            "3114  21755  262140 -0.146894       -1\n",
            "3171  22094  262140 -0.146894       -1\n",
            "3360  23224  262140 -0.146894       -1\n"
          ]
        },
        {
          "output_type": "display_data",
          "data": {
            "text/plain": [
              "<Figure size 432x288 with 1 Axes>"
            ],
            "image/png": "[encoded data removed]"
          },
          "metadata": {
            "needs_background": "light"
          }
        }
      ]
    },
    {
      "cell_type": "code",
      "source": [
        "#rpm injection\n",
        "#speed\n",
        "X  = rpm_injection.loc[:,['count','speed']]\n",
        "\n",
        "\n",
        "cluster1 = IsolationForest(n_estimators=100, contamination=float(0.01))\n",
        "cluster1.fit(X[['speed']])\n",
        "\n",
        "X['scores']=cluster1.decision_function(X[['speed']])\n",
        "X['anamoly']=cluster1.predict(X[['speed']])\n",
        "anamoly = X.loc[X['anamoly']==-1]\n",
        "anamoly_index = list(anamoly.index)\n",
        "print(anamoly)\n",
        "#scatter plot\n",
        "plt.scatter(X[X['anamoly']==1]['count'],X[X['anamoly']==1]['speed'],c = 'red',label ='Cluster1' )\n",
        "plt.scatter(X[X['anamoly']==-1]['count'],X[X['anamoly']==-1]['speed'],c = 'blue',label ='Cluster2' )\n",
        "plt.legend()\n",
        "plt.title('Regular vs anamoly')\n",
        "plt.xlabel('count')\n",
        "plt.ylabel('Speed')\n",
        "plt.show()"
      ],
      "metadata": {
        "colab": {
          "base_uri": "https://localhost:8080/",
          "height": 1113
        },
        "id": "NcKdSRGCZL-k",
        "outputId": "701def58-be9a-41ad-a9f7-b8534882994b"
      },
      "execution_count": null,
      "outputs": [
        {
          "output_type": "stream",
          "name": "stderr",
          "text": [
            "/usr/local/lib/python3.7/dist-packages/sklearn/base.py:451: UserWarning: X does not have valid feature names, but IsolationForest was fitted with feature names\n",
            "  \"X does not have valid feature names, but\"\n"
          ]
        },
        {
          "output_type": "stream",
          "name": "stdout",
          "text": [
            "      count     speed    scores  anamoly\n",
            "2058  15429  5.766325 -0.000422       -1\n",
            "2059  15443  5.766325 -0.000422       -1\n",
            "2060  15444  5.766325 -0.000422       -1\n",
            "2061  15448  5.766325 -0.000422       -1\n",
            "2062  15456  5.766325 -0.000422       -1\n",
            "2063  15467  5.766325 -0.000422       -1\n",
            "2064  15468  5.834675 -0.006315       -1\n",
            "2065  15470  5.834675 -0.006315       -1\n",
            "2066  15475  5.834675 -0.006315       -1\n",
            "2067  15483  5.834675 -0.006315       -1\n",
            "2068  15488  5.834675 -0.006315       -1\n",
            "2069  15499  5.834675 -0.006315       -1\n",
            "2070  15502  5.834675 -0.006315       -1\n",
            "2071  15508  5.834675 -0.006315       -1\n",
            "2072  15517  5.834675 -0.006315       -1\n",
            "2073  15522  5.834675 -0.006315       -1\n",
            "2074  15524  5.834675 -0.006315       -1\n",
            "2075  15531  5.834675 -0.006315       -1\n",
            "2076  15541  5.834675 -0.006315       -1\n",
            "2077  15546  5.903026 -0.002568       -1\n",
            "2078  15552  5.903026 -0.002568       -1\n",
            "2079  15559  5.903026 -0.002568       -1\n",
            "2080  15563  5.903026 -0.002568       -1\n",
            "2081  15572  5.903026 -0.002568       -1\n",
            "2082  15583  5.903026 -0.002568       -1\n",
            "2083  15585  5.971377 -0.010907       -1\n",
            "2084  15588  5.971377 -0.010907       -1\n",
            "2085  15592  5.971377 -0.010907       -1\n",
            "2086  15601  5.971377 -0.010907       -1\n",
            "2087  15602  5.971377 -0.010907       -1\n",
            "2088  15613  6.045942 -0.007256       -1\n",
            "2089  15614  6.045942 -0.007256       -1\n",
            "2090  15623  6.045942 -0.007256       -1\n",
            "2091  15631  6.045942 -0.007256       -1\n",
            "2092  15636  6.045942 -0.007256       -1\n",
            "2093  15637  6.045942 -0.007256       -1\n",
            "2094  15642  6.045942 -0.007256       -1\n",
            "2095  15650  6.045942 -0.007256       -1\n",
            "2096  15657  6.077010 -0.007444       -1\n",
            "2097  15663  6.077010 -0.007444       -1\n",
            "2098  15672  6.077010 -0.007444       -1\n",
            "2099  15676  6.077010 -0.007444       -1\n",
            "2100  15684  6.077010 -0.007444       -1\n"
          ]
        },
        {
          "output_type": "display_data",
          "data": {
            "text/plain": [
              "<Figure size 432x288 with 1 Axes>"
            ],
            "image/png": "[encoded data removed]"
          },
          "metadata": {
            "needs_background": "light"
          }
        }
      ]
    },
    {
      "cell_type": "code",
      "source": [
        "#speed injection\n",
        "#rpm\n",
        "X  = speed_injection.loc[:,['count','rpm']]\n",
        "\n",
        "\n",
        "cluster1 = IsolationForest(n_estimators=100, contamination=float(0.01))\n",
        "cluster1.fit(X[['rpm']])\n",
        "\n",
        "X['scores']=cluster1.decision_function(X[['rpm']])\n",
        "X['anamoly']=cluster1.predict(X[['rpm']])\n",
        "anamoly = X.loc[X['anamoly']==-1]\n",
        "anamoly_index = list(anamoly.index)\n",
        "print(anamoly)\n",
        "#scatter plot\n",
        "plt.scatter(X[X['anamoly']==1]['count'],X[X['anamoly']==1]['rpm'],c = 'red',label ='Cluster1' )\n",
        "plt.scatter(X[X['anamoly']==-1]['count'],X[X['anamoly']==-1]['rpm'],c = 'blue',label ='Cluster2' )\n",
        "plt.legend()\n",
        "plt.title('Regular vs anamoly')\n",
        "plt.xlabel('count')\n",
        "plt.ylabel('Rpm')\n",
        "plt.show()"
      ],
      "metadata": {
        "colab": {
          "base_uri": "https://localhost:8080/",
          "height": 593
        },
        "id": "gl8lpni8bPF0",
        "outputId": "4e0c0d79-6ad0-4dbf-9e8d-448b2f83cca3"
      },
      "execution_count": null,
      "outputs": [
        {
          "output_type": "stream",
          "name": "stderr",
          "text": [
            "/usr/local/lib/python3.7/dist-packages/sklearn/base.py:451: UserWarning: X does not have valid feature names, but IsolationForest was fitted with feature names\n",
            "  \"X does not have valid feature names, but\"\n"
          ]
        },
        {
          "output_type": "stream",
          "name": "stdout",
          "text": [
            "      count   rpm    scores  anamoly\n",
            "0        16   626 -0.003453       -1\n",
            "1        34   626 -0.003453       -1\n",
            "2        41   624 -0.003453       -1\n",
            "3        60   624 -0.003453       -1\n",
            "4        69   624 -0.003453       -1\n",
            "...     ...   ...       ...      ...\n",
            "3043  20287  1674 -0.002419       -1\n",
            "3044  20296  1674 -0.002419       -1\n",
            "3045  20304  1674 -0.002419       -1\n",
            "3046  20306  1674 -0.002419       -1\n",
            "3047  20308  1674 -0.002419       -1\n",
            "\n",
            "[137 rows x 4 columns]\n"
          ]
        },
        {
          "output_type": "display_data",
          "data": {
            "text/plain": [
              "<Figure size 432x288 with 1 Axes>"
            ],
            "image/png": "[encoded data removed]"
          },
          "metadata": {
            "needs_background": "light"
          }
        }
      ]
    },
    {
      "cell_type": "code",
      "source": [
        "#speed injection\n",
        "#speed\n",
        "\n",
        "X  = speed_injection.loc[:,['count','speed']]\n",
        "\n",
        "\n",
        "cluster1 = IsolationForest(n_estimators=100, contamination=float(0.5))\n",
        "cluster1.fit(X[['speed']])\n",
        "\n",
        "X['scores']=cluster1.decision_function(X[['speed']])\n",
        "X['anamoly']=cluster1.predict(X[['speed']])\n",
        "anamoly = X.loc[X['anamoly']==-1]\n",
        "anamoly_index = list(anamoly.index)\n",
        "print(anamoly)\n",
        "#scatter plot\n",
        "plt.scatter(X[X['anamoly']==1]['count'],X[X['anamoly']==1]['speed'],c = 'red',label ='Cluster1' )\n",
        "plt.scatter(X[X['anamoly']==-1]['count'],X[X['anamoly']==-1]['speed'],c = 'blue',label ='Cluster2' )\n",
        "plt.legend()\n",
        "plt.title('Regular vs anamoly')\n",
        "plt.xlabel('count')\n",
        "plt.ylabel('Speed')\n",
        "plt.show()"
      ],
      "metadata": {
        "colab": {
          "base_uri": "https://localhost:8080/",
          "height": 593
        },
        "id": "NBEpyCBPbsbY",
        "outputId": "a29cdbbd-3967-4a72-f70f-635a03f255ae"
      },
      "execution_count": null,
      "outputs": [
        {
          "output_type": "stream",
          "name": "stderr",
          "text": [
            "/usr/local/lib/python3.7/dist-packages/sklearn/base.py:451: UserWarning: X does not have valid feature names, but IsolationForest was fitted with feature names\n",
            "  \"X does not have valid feature names, but\"\n"
          ]
        },
        {
          "output_type": "stream",
          "name": "stdout",
          "text": [
            "       count     speed    scores  anamoly\n",
            "0         16  0.000000 -0.310178       -1\n",
            "1         34  0.000000 -0.310178       -1\n",
            "2         41  0.000000 -0.310178       -1\n",
            "3         60  0.000000 -0.310178       -1\n",
            "4         69  0.000000 -0.310178       -1\n",
            "...      ...       ...       ...      ...\n",
            "14400  88269  5.449425 -0.081044       -1\n",
            "14406  88307  5.449425 -0.081044       -1\n",
            "14407  88313  5.449425 -0.081044       -1\n",
            "14418  88382  5.486708 -0.059424       -1\n",
            "14430  88464  5.486708 -0.059424       -1\n",
            "\n",
            "[2637 rows x 4 columns]\n"
          ]
        },
        {
          "output_type": "display_data",
          "data": {
            "text/plain": [
              "<Figure size 432x288 with 1 Axes>"
            ],
            "image/png": "[encoded data removed]"
          },
          "metadata": {
            "needs_background": "light"
          }
        }
      ]
    },
    {
      "cell_type": "markdown",
      "source": [
        "Task 5: Hidden markov Model"
      ],
      "metadata": {
        "id": "ELp9beyNVubB"
      }
    },
    {
      "cell_type": "code",
      "source": [
        "!pip install hmmlearn\n",
        "from hmmlearn import hmm\n",
        "\n",
        "#no injection\n",
        "#rpm\n",
        "X = no_injection[['rpm']]\n",
        "\n",
        "hcluster = hmm.GaussianHMM(n_components=2, covariance_type=\"diag\")\n",
        "hcluster.fit(X)\n",
        "\n",
        "Y = hcluster.predict(X)\n",
        "plt.scatter(X,Y)\n",
        "plt.title('attack vs rpm')\n",
        "plt.xlabel('rpm')\n",
        "plt.ylabel('attack')\n",
        "plt.show()"
      ],
      "metadata": {
        "colab": {
          "base_uri": "https://localhost:8080/",
          "height": 506
        },
        "id": "_76vCGJqVyc4",
        "outputId": "b27bed6a-f9d1-4530-8a3a-4d0ea6e3f241"
      },
      "execution_count": null,
      "outputs": [
        {
          "output_type": "stream",
          "name": "stdout",
          "text": [
            "Looking in indexes: https://pypi.org/simple, https://us-python.pkg.dev/colab-wheels/public/simple/\n",
            "Collecting hmmlearn\n",
            "  Downloading hmmlearn-0.2.8-cp37-cp37m-manylinux_2_5_x86_64.manylinux1_x86_64.whl (217 kB)\n",
            "\u001b[K     |████████████████████████████████| 217 kB 21.9 MB/s \n",
            "\u001b[?25hRequirement already satisfied: scikit-learn>=0.16 in /usr/local/lib/python3.7/dist-packages (from hmmlearn) (1.0.2)\n",
            "Requirement already satisfied: scipy>=0.19 in /usr/local/lib/python3.7/dist-packages (from hmmlearn) (1.7.3)\n",
            "Requirement already satisfied: numpy>=1.10 in /usr/local/lib/python3.7/dist-packages (from hmmlearn) (1.21.6)\n",
            "Requirement already satisfied: joblib>=0.11 in /usr/local/lib/python3.7/dist-packages (from scikit-learn>=0.16->hmmlearn) (1.2.0)\n",
            "Requirement already satisfied: threadpoolctl>=2.0.0 in /usr/local/lib/python3.7/dist-packages (from scikit-learn>=0.16->hmmlearn) (3.1.0)\n",
            "Installing collected packages: hmmlearn\n",
            "Successfully installed hmmlearn-0.2.8\n"
          ]
        },
        {
          "output_type": "display_data",
          "data": {
            "text/plain": [
              "<Figure size 432x288 with 1 Axes>"
            ],
            "image/png": "[encoded data removed]"
          },
          "metadata": {
            "needs_background": "light"
          }
        }
      ]
    },
    {
      "cell_type": "code",
      "source": [
        "#no injection\n",
        "#speed\n",
        "X = no_injection[['speed']]\n",
        "\n",
        "hcluster = hmm.GaussianHMM(n_components=2, covariance_type=\"diag\",n_iter = 42, random_state = 100)\n",
        "hcluster.fit(X)\n",
        "\n",
        "Y = hcluster.predict(X)\n",
        "plt.scatter(X,Y)\n",
        "plt.title('attack vs speed')\n",
        "plt.xlabel('speed')\n",
        "plt.ylabel('attack')\n",
        "plt.show()"
      ],
      "metadata": {
        "colab": {
          "base_uri": "https://localhost:8080/",
          "height": 295
        },
        "id": "f0HEFtiIIo25",
        "outputId": "be5c266c-9988-4b4b-e14e-8c51a342a2fa"
      },
      "execution_count": null,
      "outputs": [
        {
          "output_type": "display_data",
          "data": {
            "text/plain": [
              "<Figure size 432x288 with 1 Axes>"
            ],
            "image/png": "[encoded data removed]"
          },
          "metadata": {
            "needs_background": "light"
          }
        }
      ]
    },
    {
      "cell_type": "code",
      "source": [
        "#rpm injection\n",
        "#rpm\n",
        "X = rpm_injection[['rpm']]\n",
        "\n",
        "hcluster = hmm.GaussianHMM(n_components=2, covariance_type=\"diag\",n_iter = 42, random_state = 100)\n",
        "hcluster.fit(X)\n",
        "\n",
        "Y = hcluster.predict(X)\n",
        "plt.scatter(X,Y)\n",
        "plt.title('attack vs rpm')\n",
        "plt.xlabel('rpm')\n",
        "plt.ylabel('attack')\n",
        "plt.show()"
      ],
      "metadata": {
        "colab": {
          "base_uri": "https://localhost:8080/",
          "height": 295
        },
        "id": "W9TdQzPkKfIO",
        "outputId": "3deedcd3-1eba-44cd-d520-b7aa9b23dcc0"
      },
      "execution_count": null,
      "outputs": [
        {
          "output_type": "display_data",
          "data": {
            "text/plain": [
              "<Figure size 432x288 with 1 Axes>"
            ],
            "image/png": "[encoded data removed]"
          },
          "metadata": {
            "needs_background": "light"
          }
        }
      ]
    },
    {
      "cell_type": "code",
      "source": [
        "#rpm injection\n",
        "#speed\n",
        "X = rpm_injection[['speed']]\n",
        "\n",
        "hcluster = hmm.GaussianHMM(n_components=2, covariance_type=\"diag\",n_iter = 42, random_state = 100)\n",
        "hcluster.fit(X)\n",
        "\n",
        "Y = hcluster.predict(X)\n",
        "plt.scatter(X,Y)\n",
        "plt.title('attack vs speed')\n",
        "plt.xlabel('speed')\n",
        "plt.ylabel('attack')\n",
        "plt.show()"
      ],
      "metadata": {
        "colab": {
          "base_uri": "https://localhost:8080/",
          "height": 295
        },
        "id": "tX7EoODrK7ds",
        "outputId": "42e0c35a-bc49-45b8-889c-44b44e4ebea6"
      },
      "execution_count": null,
      "outputs": [
        {
          "output_type": "display_data",
          "data": {
            "text/plain": [
              "<Figure size 432x288 with 1 Axes>"
            ],
            "image/png": "[encoded data removed]"
          },
          "metadata": {
            "needs_background": "light"
          }
        }
      ]
    },
    {
      "cell_type": "code",
      "source": [
        "#speed injection\n",
        "#rpm\n",
        "X = speed_injection[['rpm']]\n",
        "\n",
        "hcluster = hmm.GaussianHMM(n_components=2, covariance_type=\"diag\",n_iter = 42, random_state = 100)\n",
        "hcluster.fit(X)\n",
        "\n",
        "Y = hcluster.predict(X)\n",
        "plt.scatter(X,Y)\n",
        "plt.title('attack vs rpm')\n",
        "plt.xlabel('rpm')\n",
        "plt.ylabel('attack')\n",
        "plt.show()"
      ],
      "metadata": {
        "colab": {
          "base_uri": "https://localhost:8080/",
          "height": 295
        },
        "id": "eOnVBq2jPBmF",
        "outputId": "68d14e06-8ef4-44ee-8ff5-07f5c3c4cdb5"
      },
      "execution_count": null,
      "outputs": [
        {
          "output_type": "display_data",
          "data": {
            "text/plain": [
              "<Figure size 432x288 with 1 Axes>"
            ],
            "image/png": "[encoded data removed]"
          },
          "metadata": {
            "needs_background": "light"
          }
        }
      ]
    },
    {
      "cell_type": "code",
      "source": [
        "#speed injection\n",
        "#speed\n",
        "X = speed_injection[['speed']]\n",
        "\n",
        "hcluster = hmm.GaussianHMM(n_components=2, covariance_type=\"diag\")\n",
        "hcluster.fit(X)\n",
        "\n",
        "Y = hcluster.predict(X)\n",
        "plt.scatter(X,Y)\n",
        "plt.title('attack vs speed')\n",
        "plt.xlabel('speed')\n",
        "plt.ylabel('attack')\n",
        "plt.show()"
      ],
      "metadata": {
        "colab": {
          "base_uri": "https://localhost:8080/",
          "height": 295
        },
        "id": "GIo3hMrNPV-P",
        "outputId": "a5669e8c-c000-4a0d-8a63-690a8b3c2d73"
      },
      "execution_count": null,
      "outputs": [
        {
          "output_type": "display_data",
          "data": {
            "text/plain": [
              "<Figure size 432x288 with 1 Axes>"
            ],
            "image/png": "[encoded data removed]"
          },
          "metadata": {
            "needs_background": "light"
          }
        }
      ]
    }
  ]
}